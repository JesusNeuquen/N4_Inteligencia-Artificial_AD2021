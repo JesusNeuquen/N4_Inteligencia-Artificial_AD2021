{
  "nbformat": 4,
  "nbformat_minor": 0,
  "metadata": {
    "colab": {
      "name": "IA_Ejercicio1_JesusJuarez_1618144.ipynb",
      "provenance": [],
      "collapsed_sections": []
    },
    "kernelspec": {
      "name": "python3",
      "display_name": "Python 3"
    },
    "language_info": {
      "name": "python"
    }
  },
  "cells": [
    {
      "cell_type": "markdown",
      "metadata": {
        "id": "ZXWm8RO70JH3"
      },
      "source": [
        "**Actividad 2.- Ejercicios Introducción python.** \n",
        "---\n",
        "*Jesús Alejandro Juárez González || 1618144* || *N4*\n"
      ]
    },
    {
      "cell_type": "code",
      "metadata": {
        "id": "HdsIyeYs9fyu",
        "colab": {
          "base_uri": "https://localhost:8080/"
        },
        "outputId": "beddcb36-7f2b-4622-bb8e-6078aa0a47d9"
      },
      "source": [
        "\"\"\"\n",
        "Crear un programa que pregunte al usuario por su nombre, edad, una frase favorita y autor de la frase favorita. \n",
        "El programa deberá de imprimir un mensaje compuesto por el nombre y edad del usuario diciendo que su frase favorita es la que dió anteriormente \n",
        "y el autor de dicha frase es el nombre previamente dado. \n",
        "Aquí habrá que realizar una concatenación de variables. \n",
        "\"\"\"\n",
        "#Ejercicio 1\n",
        "\n",
        "print(\"--Indique los siguientes datos--\") #indicaciones generales\n",
        "\n",
        "#Se usa comando input para que el usuario ingrese los datos\n",
        "#Se pueden usar comillas para ingresar texto dentro del comando input\n",
        "nombre = input(\"Indique su nombre: \") \n",
        "edad = input(\"Cuál es su edad en años?: \")\n",
        "frase = input(\"Escriba una frase favorita que pueda tener: \")\n",
        "autor = input(\"Quién es el autor de dicha frase?: \")\n",
        "print(\"                  \") #Para pasar un espacio\n",
        "\n",
        "#Concatenación\n",
        "a = \"A \" + nombre + \" de \" + edad + \" años \" + \"le gusta la frase '\" + frase+\"', del autor \" + autor\n",
        "\n",
        "print(a) #Se imprimen los datos ingresados\n",
        "\n",
        "\n"
      ],
      "execution_count": 4,
      "outputs": [
        {
          "output_type": "stream",
          "name": "stdout",
          "text": [
            "--Indique los siguientes datos--\n",
            "Indique su nombre: Jesús Juárez\n",
            "Cuál es su edad en años?: 24\n",
            "Escriba una frase favorita que pueda tener: Es muss sein\n",
            "Quién es el autor de dicha frase?: Bethoveen\n",
            "                  \n",
            "A Jesús Juárez de 24 años le gusta la frase 'Es muss sein', del autor Bethoveen\n"
          ]
        }
      ]
    },
    {
      "cell_type": "code",
      "metadata": {
        "colab": {
          "base_uri": "https://localhost:8080/"
        },
        "id": "8DdrK2mA0HBR",
        "outputId": "8acf91ff-2a6d-46e7-aa6c-f7cebdb94e36"
      },
      "source": [
        "\"\"\"\n",
        "Crear un programa que le pida al usuario capturar dos números enteros y dos números flotantes. \n",
        "Después, realizará la suma, resta, multiplicación y división, de ambos pares de números. \n",
        "Como resultado se deberán de obtener 8 valores. Imprimir todos estos reultados.\n",
        "\"\"\"\n",
        "#Ejercicio 2\n",
        "\n",
        "#Se usa comando input para que el usuario ingrese los datos\n",
        "a = int (input(\"Indique primer número entero: \"))\n",
        "b = int (input(\"Indique segundo número entero: \"))\n",
        "c = float (input(\"Indique primer número decimal: \"))\n",
        "d = float (input(\"Indique segundo número decimal: \"))\n",
        "\n",
        "#Se hacen operaciones con enteros ingresados\n",
        "suma1 = a+b\n",
        "resta1 = a-b\n",
        "mult1 = a*b\n",
        "div1 = a/b\n",
        "#Se hacen operaciones con decimales ingresados\n",
        "suma2 = c+d\n",
        "resta2 = c-d\n",
        "mult2 = c*d\n",
        "div2 = c/d\n",
        "\n",
        "#Se imprimen operaciones con enteros\n",
        "print(\"                  \") #Para pasar un espacio\n",
        "print(\"Operaciones con números enteros:\") #Titulo\n",
        "print(\"suma:\",suma1)\n",
        "print(\"resta\",resta1)\n",
        "print(\"multiplicación\",mult1)\n",
        "\n",
        "#Por alguna razón division se imprime en decimal aunque resultado sea entero\n",
        "if div1 % 1 == 0: #Si el residuo de dividir entre 1 es igual a 0 es entero\n",
        "  x = int (div1) #Se convierte resultado a entero\n",
        "  print(\"división:\",x) #se imprime resultado entero\n",
        "else:\n",
        "  print(\"división:\",div1) #de otra forma, resultado decimal. Se imprime decimal\n",
        "\n",
        "#Se imprimen operaciones con decimales\n",
        "print(\"                  \") #Para pasar un espacio\n",
        "print(\"Operaciones con números decimales:\")\n",
        "\n",
        "#Si el residuo de dividir entre 1 es igual a 0\n",
        "#significa que se ingresaron los mismos numeros, de cualquier signo.\n",
        "if div2 % 1 == 0: \n",
        "  y1 = int (div2) #Se convierte resultado a entero\n",
        "  y2 = int (suma2) #Se convierte resultado a entero\n",
        "  y3 = int (resta2) #Se convierte resultado a entero\n",
        "  #se imprimen resultados enteros\n",
        "  print(\"suma:\",y1)\n",
        "  print(\"resta:\",y2)\n",
        "  print(\"multiplicación:\",mult2) #multiplicación se deja igual\n",
        "  print(\"división:\",y3) \n",
        "else: #de otra forma, resultado decimal. Se imprime decimal\n",
        "  print(\"suma:\",suma2)\n",
        "  print(\"resta\",resta2)\n",
        "  print(\"multiplicación:\",mult2)\n",
        "  print(\"división:\",div2) \n"
      ],
      "execution_count": null,
      "outputs": [
        {
          "output_type": "stream",
          "name": "stdout",
          "text": [
            "Indique primer número entero: 3\n",
            "Indique segundo número entero: 4\n",
            "Indique primer número decimal: 1.5\n",
            "Indique segundo número decimal: -1.5\n",
            "                  \n",
            "Operaciones con números enteros:\n",
            "suma: 7\n",
            "resta -1\n",
            "multiplicación 12\n",
            "división: 0.75\n",
            "                  \n",
            "Operaciones con números decimales:\n",
            "suma: -1\n",
            "resta: 0\n",
            "multiplicación: -2.25\n",
            "división: 3\n"
          ]
        }
      ]
    },
    {
      "cell_type": "code",
      "metadata": {
        "id": "vjwyOaHEAqrf",
        "colab": {
          "base_uri": "https://localhost:8080/"
        },
        "outputId": "649505b9-ebb5-4369-a0b6-7acf281ee11b"
      },
      "source": [
        "\"\"\"\n",
        "Crear un programa que evalúe dos expresiones lógicas con `and`, dos con `or` y dos con `not`. \n",
        "Cada expresión deberá hacer uso de operadores de comparación. \n",
        "\"\"\"\n",
        "\n",
        "#Ejercicio 3\n",
        "\n",
        "#Se usa comando input para que el usuario ingrese los datos\n",
        "print(\"Ingrese cuatro números para evaluarse:\")#Se ingresan 4 numeros\n",
        "a = float (input(\"Primer número: \"))\n",
        "b = float (input(\"Segundo número: \"))\n",
        "c = float (input(\"Tercer número: \"))\n",
        "d = float (input(\"Cuarto número: \"))\n",
        "print(\"                  \")#Para pasar un espacio\n",
        "print(\"El primer número es mayor al segundo y el tercero al cuarto:\")\n",
        "print(a>b and c>d)#operador and. Ambas deben ser ciertas para obtener true\n",
        "print(\"                  \") #Para pasar un espacio\n",
        "print(\"La suma de los dos primeros números es menor a el tercero o mayor al cuarto:\")\n",
        "print(a+b<c or a+b>d)#operador or. Una sola debe ser cierta para obtener true\n",
        "print(\"                  \") #Para pasar un espacio\n",
        "print(\"Indica true si los dos primeros números son iguales:\")\n",
        "print(not a-b != 0)#operador not. Indica false si el resultado es true o viceversa. "
      ],
      "execution_count": 10,
      "outputs": [
        {
          "output_type": "stream",
          "name": "stdout",
          "text": [
            "Ingrese cuatro números para evaluarse:\n",
            "Primer número: 2\n",
            "Segundo número: 2\n",
            "Tercer número: 6\n",
            "Cuarto número: 3\n",
            "                  \n",
            "El primer número es mayor al segundo y el tercero al cuarto:\n",
            "False\n",
            "                  \n",
            "La suma de los dos primeros números es menor a el tercero o mayor al cuarto:\n",
            "True\n",
            "                  \n",
            "Indica true si los dos primeros números son iguales:\n",
            "True\n"
          ]
        }
      ]
    }
  ]
}