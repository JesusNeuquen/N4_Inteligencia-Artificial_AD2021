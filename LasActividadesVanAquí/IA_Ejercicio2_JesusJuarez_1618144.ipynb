{
  "nbformat": 4,
  "nbformat_minor": 0,
  "metadata": {
    "colab": {
      "name": "IA_Ejercicio2_JesusJuarez_1618144.ipynb",
      "provenance": [],
      "collapsed_sections": []
    },
    "kernelspec": {
      "display_name": "Python 3",
      "name": "python3"
    },
    "language_info": {
      "name": "python"
    }
  },
  "cells": [
    {
      "cell_type": "markdown",
      "metadata": {
        "id": "qRw-lZ6NQkpl"
      },
      "source": [
        "# **Actividad 3.- Ejercicios Introducción Python, 2da parte**\n",
        "Jesús Alejandro Juárez González 1618144 || Jueves N4"
      ]
    },
    {
      "cell_type": "code",
      "metadata": {
        "colab": {
          "base_uri": "https://localhost:8080/"
        },
        "id": "dqZzbL0UPHdI",
        "outputId": "8fee13e1-2460-4261-f126-e41dfb897d44"
      },
      "source": [
        "\"\"\"\n",
        "1.1 Piensa en 7 comidas diferente que te gusten. \n",
        "Implementa un programa que pregunte por las 7 comidas, \n",
        "las almacene en una lista y que posteriermente imprima cada una de ellas \n",
        "utilizando uno de los ciclos comentados en clase.\n",
        "\"\"\"\n",
        "\n",
        "#Ejercicio 1.1\n",
        "\n",
        "comidas = [1,2,3,4,5,6,7] #lista para registrar comidas\n",
        "c = [1,2,3,4,5,6,7] #lista para indice\n",
        "i=0 #contador inicial\n",
        "\n",
        "while i<7: #bucle while para registrar comidas en lista \n",
        "  comidas[i] = input(\"Indique comida favorita: \") #Se pregunta i veces por la comida\n",
        "  i=i+1\n",
        "\n",
        "print(\"                  \") #Para pasar un espacio\n",
        "\n",
        "print(\"Comidas favoritas:\") \n",
        "for a, b in zip(c, comidas): #Se imprimen listas con índice paralelas una con la otra\n",
        "    print(a, b)\n",
        "\n"
      ],
      "execution_count": null,
      "outputs": [
        {
          "name": "stdout",
          "output_type": "stream",
          "text": [
            "Indique comida favorita: pizza\n",
            "Indique comida favorita: tacos\n",
            "Indique comida favorita: hamburguesa\n",
            "Indique comida favorita: malteadas\n",
            "Indique comida favorita: pastel\n",
            "Indique comida favorita: café\n",
            "Indique comida favorita: sushi\n",
            "                  \n",
            "Comidas favoritas:\n",
            "1 pizza\n",
            "2 tacos\n",
            "3 hamburguesa\n",
            "4 malteadas\n",
            "5 pastel\n",
            "6 café\n",
            "7 sushi\n"
          ]
        }
      ]
    },
    {
      "cell_type": "code",
      "metadata": {
        "colab": {
          "base_uri": "https://localhost:8080/"
        },
        "id": "gebb6DoKRfpj",
        "outputId": "1ad0b475-6c22-49c8-8248-cd37b6b3a8c1"
      },
      "source": [
        "\"\"\"\n",
        "1.2 Modifica el ejercicio 1.1 para que imprima cada una de las comidas favoritas \n",
        "junto con una oracición inicial: \"Una de mis comidas favoritas es [comida1]\".\n",
        "\"\"\"\n",
        "\n",
        "#Ejercicio 1.2\n",
        "\n",
        "comidas = [1,2,3,4,5,6,7] #lista para registrar comidas\n",
        "c = [1,2,3,4,5,6,7] #lista para indice\n",
        "i=0 #contador inicial\n",
        "\n",
        "while i<7: #bucle while para registrar comidas en lista \n",
        "  comidas[i] = input(\"Indique comida favorita: \") #Se pregunta i veces por la comida\n",
        "  i=i+1\n",
        "\n",
        "print(\"                  \") #Para pasar un espacio\n",
        "\n",
        "print(\"Comidas favoritas:\") \n",
        "for a, b in zip(c, comidas): #Se imprimen listas con índice paralelas una con la otra\n",
        "    print(a,\"una de mis comidas favoritas es: \" + b)\n",
        "  "
      ],
      "execution_count": null,
      "outputs": [
        {
          "name": "stdout",
          "output_type": "stream",
          "text": [
            "Indique comida favorita: pizza\n",
            "Indique comida favorita: tacos\n",
            "Indique comida favorita: hamburguesa\n",
            "Indique comida favorita: malteada\n",
            "Indique comida favorita: pastel\n",
            "Indique comida favorita: café\n",
            "Indique comida favorita: sushi\n",
            "                  \n",
            "Comidas favoritas:\n",
            "1 una de mis comidas favoritas es: pizza\n",
            "2 una de mis comidas favoritas es: tacos\n",
            "3 una de mis comidas favoritas es: hamburguesa\n",
            "4 una de mis comidas favoritas es: malteada\n",
            "5 una de mis comidas favoritas es: pastel\n",
            "6 una de mis comidas favoritas es: café\n",
            "7 una de mis comidas favoritas es: sushi\n"
          ]
        }
      ]
    },
    {
      "cell_type": "code",
      "metadata": {
        "colab": {
          "base_uri": "https://localhost:8080/"
        },
        "id": "oRPPLAct1ZOH",
        "outputId": "d32abe59-fba7-4eba-e1db-000b0939ffa7"
      },
      "source": [
        "\"\"\"\n",
        "Crear un juego de piedra, papel o tijera de dos jugadores. \n",
        "El programa preguntará por la opción del jugador 1 y la opción del jugador 2 \n",
        "y dará como resultado quien ganó el juego. \n",
        "\"\"\"\n",
        "\n",
        "#Ejercicio 2\n",
        "\n",
        "l = [1,2] #Para almacenar opciones\n",
        "\n",
        "#INSTRUCCIONES DE JUEGO\n",
        "print(\"JUEGO PIEDRA, PAPEL O TIJERA\")\n",
        "print(\"              \")\n",
        "print(\"Cada jugador escribe su opción: \")\n",
        "print(\"1 - PIEDRA\")\n",
        "print(\"2 - PAPEL\")\n",
        "print(\"3 - TIJERA\")\n",
        "print(\"              \")\n",
        "\n",
        "#Se almacenan opciones de jugadores\n",
        "l[0] = input(\"Escoge tu opción jugador 1: \")\n",
        "l[1] = input(\"Escoge tu opción jugador 2: \")\n",
        "print(\"              \")\n",
        "#Se muestran opciones de jugadores\n",
        "print(\"Jugador 1 escogió: \",l[0])\n",
        "print(\"Jugador 2 escogió: \",l[1])\n",
        "print(\"              \")\n",
        "\n",
        "if l[0] == l[1]: #Condición para empate\n",
        "  print(\"El resultado es empate\") #Resultado empate\n",
        "elif l[0] == \"piedra\" and l[1] == \"tijera\" or l[0] == \"papel\" and l[1] == \"piedra\" or l[0] == \"tijera\" and l[1] == \"papel\": #Condición gana jugador 1\n",
        "  print(\"El Jugador 1 GANA\") #Resultado gana jugador 1\n",
        "elif l[1] == \"piedra\" and l[0] == \"tijera\" or l[1] == \"papel\" and l[0] == \"piedra\" or l[1] == \"tijera\" and l[0] == \"papel\": #Condición gana jugador 2\n",
        "  print(\"El Jugador 2 GANA\") #Resultado gana jugador 2\n",
        "\n",
        "\n"
      ],
      "execution_count": null,
      "outputs": [
        {
          "name": "stdout",
          "output_type": "stream",
          "text": [
            "JUEGO PIEDRA, PAPEL O TIJERA\n",
            "              \n",
            "Cada jugador escribe su opción: \n",
            "1 - PIEDRA\n",
            "2 - PAPEL\n",
            "3 - TIJERA\n",
            "              \n",
            "Escoge tu opción jugador 1: tijera\n",
            "Escoge tu opción jugador 2: papel\n",
            "              \n",
            "Jugador 1 escogió:  tijera\n",
            "Jugador 2 escogió:  papel\n",
            "              \n",
            "El Jugador 1 GANA\n"
          ]
        }
      ]
    },
    {
      "cell_type": "code",
      "metadata": {
        "colab": {
          "base_uri": "https://localhost:8080/"
        },
        "id": "S7bHWh4-1rAu",
        "outputId": "47e0bfeb-201a-48b4-f546-0499f7f31f7f"
      },
      "source": [
        "\"\"\"\n",
        "Implementar un programa que imprima el siguiente patron:\n",
        "\n",
        "123456\n",
        "12345\n",
        "1234\n",
        "123\n",
        "12\n",
        "1\n",
        "12\n",
        "123\n",
        "1234\n",
        "12345\n",
        "123456\n",
        "\"\"\"\n",
        "\n",
        "#Ejercicio 3\n",
        "\n",
        "j=7 #Contador para secuencia descendiente\n",
        "while j>1: #bucle para imprimir valores en el for y condición de paro\n",
        "  for x in range(1,j): #se va a imprimir los numeros del 1 al valor j-1\n",
        "    print(x, end='') #se imprimen numeros y con end='' se acomodan en horizontal\n",
        "  print() #se pasa un espacio en línea para cada impresión de serie\n",
        "  j=j-1 #el contador disminuye con cada iteración \n",
        "\n",
        "i=3 #contador para secuencia ascendente\n",
        "while i<8: #condición de paro y definición de número de iteraciones\n",
        "  for y in range(1,i): #ahora los numeros se imprimen desde el 1 hasta un valor i-1\n",
        "    print(y, end='') #acomodo de serie en horizontal\n",
        "  print() #espacio entre series\n",
        "  i=i+1 #se incrementa el contador con cada iteración\n"
      ],
      "execution_count": null,
      "outputs": [
        {
          "output_type": "stream",
          "name": "stdout",
          "text": [
            "123456\n",
            "12345\n",
            "1234\n",
            "123\n",
            "12\n",
            "1\n",
            "12\n",
            "123\n",
            "1234\n",
            "12345\n",
            "123456\n"
          ]
        }
      ]
    }
  ]
}