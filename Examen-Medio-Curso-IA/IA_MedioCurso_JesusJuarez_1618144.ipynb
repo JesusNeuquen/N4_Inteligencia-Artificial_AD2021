{
  "nbformat": 4,
  "nbformat_minor": 0,
  "metadata": {
    "colab": {
      "name": "IA_MedioCurso_JesusJuarez_1618144.ipynb",
      "provenance": [],
      "collapsed_sections": []
    },
    "kernelspec": {
      "name": "python3",
      "display_name": "Python 3"
    },
    "language_info": {
      "name": "python"
    }
  },
  "cells": [
    {
      "cell_type": "markdown",
      "metadata": {
        "id": "s_ptHL37ClED"
      },
      "source": [
        "# **EXAMEN DE MEDIO CURSO**\n",
        "Jesús Alejandro Juárez González 1618144 || Jueves N4"
      ]
    },
    {
      "cell_type": "code",
      "metadata": {
        "colab": {
          "base_uri": "https://localhost:8080/"
        },
        "id": "kGrQcva-CgRp",
        "outputId": "9eee0f29-2224-44de-a0d9-a960b2ee27cf"
      },
      "source": [
        "\"\"\"\n",
        "1. Desarrollar un programa que,\n",
        "- Remueva los números pares de la lista:\n",
        "   ex_lista = [10, 15, 17, 21, 22, 34, 37, 40, 45, 52, 66, 68, 81, 84, 91, 94, 102, 105, 109]\n",
        "- Imprima la lista después de remover los números pares. \n",
        "\"\"\"\n",
        "#Ejercicio Python 1\n",
        "\n",
        "ex_lista = [10, 15, 17, 21, 22, 34, 37, 40, 45, 52, 66, 68, 81, 84, 91, 94, 102, 105, 109] #Lista de ejemplo\n",
        "\n",
        "listaimpar = [] #Se crea una nueva lista para almacenar valores requeridos\n",
        "for i in ex_lista: #Para cada valor en la lista se revisa:\n",
        "    if i%2 != 0: # Si el residuo de dividir entre 2 es diferente de 0, entonces es impar\n",
        "      listaimpar.append(i) #Se almacena en nueva lista\n",
        "print(\"los numeros impares son: \",*listaimpar) #Se muestran valores impares\n",
        "print(\"\\nla nueva lista queda a continuación: \")\n",
        "print(listaimpar) #Se muestra la lista nueva con valores impares\n"
      ],
      "execution_count": 68,
      "outputs": [
        {
          "output_type": "stream",
          "name": "stdout",
          "text": [
            "los numeros impares son:  15 17 21 37 45 81 91 105 109\n",
            "\n",
            "la nueva lista queda a continuación: \n",
            "[15, 17, 21, 37, 45, 81, 91, 105, 109]\n"
          ]
        }
      ]
    },
    {
      "cell_type": "code",
      "metadata": {
        "colab": {
          "base_uri": "https://localhost:8080/"
        },
        "id": "6RfyJR-MC0YB",
        "outputId": "e4c3a0c5-dc62-425d-b369-ddb8e440890e"
      },
      "source": [
        "\"\"\"\n",
        "2. Desarrollar un programa que,\n",
        "- Pregunte al usuario por sus 5 películas favoritas (dato tipo string), empezando por la mas favorita y \n",
        "  terminando en la posición 5 con la menos favorita. \n",
        "- Almacene estos datos en una lista. \n",
        "- Por último, iterar sobre la lista generada para imprimir 5 oraciones \n",
        "  (1 con cada título de película) que digan: \"La película [TÍTULO DE PELÍCULA] está en la posición [índice+1] de mi top 5\". \n",
        "      . TÍTULO DE PELÍCULA: corresponde a los nombres almacenados previamente en su lista. \n",
        "      . Recordatorio: Índice es la posición de un elemento dentro de una lista. \n",
        "\"\"\"\n",
        "\n",
        "#Ejercicio 2 \n",
        "\n",
        "print(\"Indique su top 5 de peliculas\") #Se dan indicaciones\n",
        "print(\"ORDEN: De la MAS favorita a la MENOS favorita\\n\")\n",
        "\n",
        "titulo = [] #Se define lista\n",
        "i=0\n",
        "while i<5: #Se va a repetir el proceso 5 veces\n",
        "  top = str(input(\"Indique título de película: \")) #Se pide llenar con nombre de película\n",
        "  titulo.append(top) #Se guarda en posición de lista \n",
        "  i=i+1 #contador para terminar iteración\n",
        "\n",
        "j=1\n",
        "while j<6: #Se va a iterar 5 veces: de 1 a 6.\n",
        "  print(\"La pelicula \" + str(titulo[j-1]) + \" está en la posición \" + str(j) + \" de mi top 5\") #Se imprime frase y nombre de película, con número de posición concatenados. \n",
        "  j=j+1 #Contador para terminar iteración"
      ],
      "execution_count": 71,
      "outputs": [
        {
          "output_type": "stream",
          "name": "stdout",
          "text": [
            "Indique su top 5 de peliculas\n",
            "ORDEN: De la MAS favorita a la MENOS favorita\n",
            "\n",
            "Indique título de película: Casablanca\n",
            "Indique título de película: Pulp Ficition\n",
            "Indique título de película: Killl Bill 2\n",
            "Indique título de película: El lobo de Wall Street\n",
            "Indique título de película: Perdida\n",
            "La pelicula Casablanca está en la posición 1 de mi top 5\n",
            "La pelicula Pulp Ficition está en la posición 2 de mi top 5\n",
            "La pelicula Killl Bill 2 está en la posición 3 de mi top 5\n",
            "La pelicula El lobo de Wall Street está en la posición 4 de mi top 5\n",
            "La pelicula Perdida está en la posición 5 de mi top 5\n"
          ]
        }
      ]
    }
  ]
}